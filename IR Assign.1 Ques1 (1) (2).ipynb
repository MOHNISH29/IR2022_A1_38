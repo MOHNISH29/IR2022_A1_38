{
 "cells": [
  {
   "cell_type": "markdown",
   "id": "60269c0d",
   "metadata": {},
   "source": [
    "# Importing Libraries"
   ]
  },
  {
   "cell_type": "code",
   "execution_count": 2,
   "id": "48543abc",
   "metadata": {},
   "outputs": [],
   "source": [
    "import nltk\n",
    "import string\n",
    "import re\n",
    "import pandas as pd\n",
    "import glob\n",
    "import os\n",
    "from nltk.stem import PorterStemmer\n",
    "from nltk.corpus import stopwords\n",
    "from nltk import word_tokenize\n",
    "from nltk.stem import WordNetLemmatizer\n",
    "lemmatizer = WordNetLemmatizer()\n",
    "stop_words = set(stopwords.words('english'))"
   ]
  },
  {
   "cell_type": "code",
   "execution_count": 3,
   "id": "f46be2fc",
   "metadata": {},
   "outputs": [],
   "source": [
    "# import os\n",
    "# path = \"/Users/ektagambhir/Downloads/Humor,Hist,Media,Food 2\"\n",
    "# os.chdir(path)\n"
   ]
  },
  {
   "cell_type": "code",
   "execution_count": 4,
   "id": "65f815f9",
   "metadata": {},
   "outputs": [],
   "source": [
    "# fp_list=[]\n",
    "# for name in os.listdir():\n",
    "#     fp_list.append(name)\n",
    "    "
   ]
  },
  {
   "cell_type": "code",
   "execution_count": 5,
   "id": "4caad860",
   "metadata": {},
   "outputs": [],
   "source": [
    "def preprocessing(d):\n",
    "    no_punc = []\n",
    "    d_lower=d.lower()\n",
    "    \n",
    "    nltk_tokens = nltk.word_tokenize(d_lower)\n",
    "    \n",
    "    stop_words_removed = []\n",
    "    for w in nltk_tokens:\n",
    "        if w not in stop_words:\n",
    "            stop_words_removed.append(w)\n",
    "    \n",
    "    \n",
    "    new_words = []\n",
    "    for x in stop_words_removed:\n",
    "        if(x.isalnum() and x!=\" \"):\n",
    "            new_words.append(x)\n",
    "        \n",
    "        \n",
    "    return new_words\n",
    "       "
   ]
  },
  {
   "cell_type": "code",
   "execution_count": 6,
   "id": "5b7873bb",
   "metadata": {},
   "outputs": [],
   "source": [
    "file_names = []\n",
    "data = []\n",
    "postings = {}\n",
    "mapping = {}   \n",
    "file_path_list = []\n",
    "id=0\n",
    "for filename in os.listdir(\"data_folder\"):\n",
    "    file_names.append(filename)\n",
    "    \n",
    "    try:\n",
    "            f = open(\"data_folder/\"+filename , encoding='utf8')\n",
    "            var=f.read().replace('\\n',\" \")\n",
    "            data.append(var)\n",
    "            tokens=preprocessing(var)\n",
    "            \n",
    "    except Exception as e:\n",
    "            f = open(\"data_folder/\"+filename , encoding='unicode_escape')\n",
    "            var=f.read().replace('\\n',\" \")\n",
    "            data.append(var)\n",
    "            tokens=preprocessing(var)\n",
    "            \n",
    "    for i in tokens:\n",
    "        if i in postings.keys():\n",
    "            postings[i].append(id)\n",
    "        else:\n",
    "            postings[i] = [id]\n",
    "    \n",
    "    id = id+1\n",
    "            \n",
    "    f.close();\n",
    "            "
   ]
  },
  {
   "cell_type": "code",
   "execution_count": null,
   "id": "92ac60aa",
   "metadata": {},
   "outputs": [],
   "source": []
  },
  {
   "cell_type": "markdown",
   "id": "5cd0bd48",
   "metadata": {},
   "source": [
    "# Implementing Inverted index datastructure"
   ]
  },
  {
   "cell_type": "code",
   "execution_count": 8,
   "id": "a5bed528",
   "metadata": {},
   "outputs": [],
   "source": [
    "for i in postings.keys():\n",
    "    l = postings[i]\n",
    "    s = set(l)\n",
    "    x=[]\n",
    "    for t in s:\n",
    "        x.append(t)\n",
    "    x.sort()    \n",
    "    postings[i] = x    \n",
    "    "
   ]
  },
  {
   "cell_type": "code",
   "execution_count": 67,
   "id": "411bebf7",
   "metadata": {},
   "outputs": [],
   "source": [
    "#postings"
   ]
  },
  {
   "cell_type": "markdown",
   "id": "515c0321",
   "metadata": {},
   "source": [
    "# PreProcessing"
   ]
  },
  {
   "cell_type": "code",
   "execution_count": null,
   "id": "f26de226",
   "metadata": {},
   "outputs": [],
   "source": []
  },
  {
   "cell_type": "markdown",
   "id": "588744e4",
   "metadata": {},
   "source": [
    "Part C)"
   ]
  },
  {
   "cell_type": "code",
   "execution_count": 66,
   "id": "a980920d",
   "metadata": {},
   "outputs": [
    {
     "name": "stdout",
     "output_type": "stream",
     "text": [
      "lion stood thoughtfully for a moment\n"
     ]
    }
   ],
   "source": [
    "query= input()"
   ]
  },
  {
   "cell_type": "code",
   "execution_count": 67,
   "id": "0ac22eb6",
   "metadata": {},
   "outputs": [],
   "source": [
    "query=preprocessing(query)"
   ]
  },
  {
   "cell_type": "code",
   "execution_count": 82,
   "id": "6db31d4f",
   "metadata": {},
   "outputs": [
    {
     "data": {
      "text/plain": [
       "['lion', 'stood', 'thoughtfully', 'moment']"
      ]
     },
     "execution_count": 82,
     "metadata": {},
     "output_type": "execute_result"
    }
   ],
   "source": [
    "query"
   ]
  },
  {
   "cell_type": "code",
   "execution_count": 83,
   "id": "bfd599a7",
   "metadata": {},
   "outputs": [
    {
     "name": "stdout",
     "output_type": "stream",
     "text": [
      "Enter the operations : OR, OR , OR\n"
     ]
    }
   ],
   "source": [
    "operations = [item for item in input(\"Enter the operations : \").split(\",\")]"
   ]
  },
  {
   "cell_type": "code",
   "execution_count": 86,
   "id": "c0c89c04",
   "metadata": {},
   "outputs": [],
   "source": [
    "def boolean_queries(query,operations):\n",
    "    op=[]\n",
    "    if(query[0] in postings.keys()):\n",
    "        op = postings[query[0]]    \n",
    "    for i in range(1,len(query)):\n",
    "            \n",
    "            if(query[i] in postings.keys()):\n",
    "                a=postings[query[i]]\n",
    "            else:\n",
    "                a=[]\n",
    "            #a1=set(a)\n",
    "            #output=set(op)\n",
    "            if operations[i-1]=='OR':\n",
    "                #output.union(a1)\n",
    "                op=list(set(op) | set(a))\n",
    "            elif operations[i-1]=='AND':\n",
    "                output.intersection(output)\n",
    "            elif operations[i-1]=='OR NOT':\n",
    "                atemp=output.difference(a1)\n",
    "                output.union(atemp)\n",
    "            elif operations[i-1]=='AND NOT':\n",
    "                atemp=output.difference(a1)\n",
    "                output.intersection(atemp)\n",
    "            #op=output\n",
    "#             else:\n",
    "#                 print(\"Wrong operation\")\n",
    "    return len(op);\n",
    "            "
   ]
  },
  {
   "cell_type": "code",
   "execution_count": 87,
   "id": "41f74b2b",
   "metadata": {},
   "outputs": [
    {
     "data": {
      "text/plain": [
       "91"
      ]
     },
     "execution_count": 87,
     "metadata": {},
     "output_type": "execute_result"
    }
   ],
   "source": [
    "boolean_queries(query,operations)"
   ]
  },
  {
   "cell_type": "code",
   "execution_count": 89,
   "id": "4ee23387",
   "metadata": {},
   "outputs": [
    {
     "data": {
      "text/plain": [
       "126"
      ]
     },
     "execution_count": 89,
     "metadata": {},
     "output_type": "execute_result"
    }
   ],
   "source": [
    "len(postings['moment'])"
   ]
  },
  {
   "cell_type": "markdown",
   "id": "4c4e2e2b",
   "metadata": {},
   "source": [
    "Part D)"
   ]
  },
  {
   "cell_type": "markdown",
   "id": "76ead104",
   "metadata": {},
   "source": [
    "# Taking User Input"
   ]
  },
  {
   "cell_type": "code",
   "execution_count": 90,
   "id": "e9f3a7a4",
   "metadata": {},
   "outputs": [],
   "source": [
    "def takeinquery(query):\n",
    "    query=preprocessing(query)\n",
    "    return query\n",
    "    "
   ]
  },
  {
   "cell_type": "code",
   "execution_count": 91,
   "id": "2ba84db8",
   "metadata": {},
   "outputs": [],
   "source": [
    "def takeinoperators():\n",
    "    operations = [item for item in input(\"Enter the operations : \").split(\",\")]\n",
    "    return operations;"
   ]
  },
  {
   "cell_type": "markdown",
   "id": "6a460e83",
   "metadata": {},
   "source": [
    "# Performing merging algorithms"
   ]
  },
  {
   "cell_type": "code",
   "execution_count": 92,
   "id": "f7651c1c",
   "metadata": {},
   "outputs": [],
   "source": [
    "comparisons=0;\n",
    "def merge(ans1,ans2):\n",
    "    res = []\n",
    "    i = 0 ; j = 0\n",
    "    comparisons = 0\n",
    "    while i < len(ans1) and j < len(ans2):\n",
    "        \n",
    "        if ans1[i] == ans2[j]:\n",
    "            res.append(ans1[i])\n",
    "            i += 1\n",
    "            j += 1\n",
    "            comparisons += 1\n",
    "        elif ans1[i] < ans2[j] :\n",
    "            i += 1\n",
    "            comparisons += 1\n",
    "        else :\n",
    "            j += 1\n",
    "            comparisons += 1\n",
    "    return res, comparisons"
   ]
  },
  {
   "cell_type": "code",
   "execution_count": null,
   "id": "546400a4",
   "metadata": {},
   "outputs": [],
   "source": []
  },
  {
   "cell_type": "code",
   "execution_count": 93,
   "id": "7882c515",
   "metadata": {},
   "outputs": [],
   "source": [
    "def merge_or(post_list1, post_list2):\n",
    "    comparisons=0;\n",
    "    res = []\n",
    "    ptr1 = 0 ; ptr2 = 0\n",
    "    while ptr1 < len(post_list1) and ptr2 < len(post_list2):\n",
    "\n",
    "        if post_list1[ptr1] == post_list2[ptr2]:\n",
    "            res.append(post_list1[ptr1])\n",
    "            ptr1 += 1\n",
    "            ptr2 += 1\n",
    "            comparisons += 1\n",
    "        elif post_list1[ptr1] < post_list2[ptr2] :\n",
    "            res.append(post_list1[ptr1])\n",
    "            ptr1 += 1\n",
    "            comparisons += 1\n",
    "        else :\n",
    "            res.append(post_list2[ptr2])\n",
    "            ptr2 += 1\n",
    "            comparisons += 1\n",
    "        \n",
    "        \n",
    "    while(ptr1 < len(post_list1)):\n",
    "        res.append(post_list1[ptr1])\n",
    "        ptr1 += 1\n",
    "\n",
    "    while(ptr2 < len(post_list2)):\n",
    "        res.append(post_list2[ptr2])\n",
    "        ptr2 += 1\n",
    "        \n",
    "    return res, comparisons\n"
   ]
  },
  {
   "cell_type": "code",
   "execution_count": 94,
   "id": "0f2fec56",
   "metadata": {},
   "outputs": [],
   "source": [
    "def not_merge(list1,doc_ID):\n",
    "    comparison=0;\n",
    "    result = []\n",
    "    atemp=list1.difference(set(list1))\n",
    "    comparison=len(list1)\n",
    "    return list(atemp),comparison"
   ]
  },
  {
   "cell_type": "code",
   "execution_count": 95,
   "id": "1aacb69b",
   "metadata": {},
   "outputs": [],
   "source": [
    "def queries(query,operations):\n",
    "    compans=0;\n",
    "    ans=[]\n",
    "    count=0;\n",
    "    all_docs = [];\n",
    "    for i in range(1134):\n",
    "        all_docs.append(i)\n",
    "        \n",
    "    op=[]\n",
    "    output=[]\n",
    "    if(query[0] in postings.keys()):\n",
    "        op = postings[query[0]]    \n",
    "    for i in range(1,len(query)):\n",
    "            if(query[i] in postings.keys()):\n",
    "                a=postings[query[i]]\n",
    "            else:\n",
    "                a=[]\n",
    "            if operations[i-1]=='OR':\n",
    "                op.sort()\n",
    "                a.sort()\n",
    "                ans,c = merge_or(op, a);\n",
    "                count=count+c\n",
    "                        \n",
    "            elif operations[i-1]=='AND':\n",
    "                    op.sort()\n",
    "                    a.sort()\n",
    "                    ans,c = merge(op, a)\n",
    "                    count=count+c\n",
    " \n",
    "                        \n",
    "            elif operations[i-1]=='OR NOT':\n",
    "                op.sort()\n",
    "                l1 = list(set(all_docs)-set(a))+list(set(a)-set(all_docs))\n",
    "                #l1=list(set(op) - set(a))\n",
    "                l1.sort()\n",
    "                ans,c= merge_or(op,l1);\n",
    "                count=count+c\n",
    "                \n",
    "                \n",
    "            elif operations[i-1]=='AND NOT':\n",
    "                op.sort()\n",
    "                l1=list(set(all_docs)-set(a))+list(set(a)-set(all_docs))\n",
    "                l1.sort();\n",
    "                ans,c= merge(op,l1)\n",
    "                count=count+c\n",
    "            \n",
    "            op=ans\n",
    "                \n",
    "                \n",
    "#             else:\n",
    "#                 print(\"Wrong operation\")\n",
    "                \n",
    "                \n",
    "    doc_list=[]\n",
    "    j=0;\n",
    "    for i in ans:\n",
    "        doc_list.append(file_names[i])\n",
    "    print(count)   \n",
    "    return len(ans),count,doc_list;\n",
    "   "
   ]
  },
  {
   "cell_type": "code",
   "execution_count": 96,
   "id": "cb5d7123",
   "metadata": {},
   "outputs": [
    {
     "data": {
      "text/plain": [
       "['OR', ' OR ', ' OR']"
      ]
     },
     "execution_count": 96,
     "metadata": {},
     "output_type": "execute_result"
    }
   ],
   "source": [
    "operations"
   ]
  },
  {
   "cell_type": "code",
   "execution_count": 97,
   "id": "94c524df",
   "metadata": {},
   "outputs": [
    {
     "name": "stdout",
     "output_type": "stream",
     "text": [
      "90\n"
     ]
    }
   ],
   "source": [
    "num_docs_match,num_of_comp,doc_list= queries(query,operations)"
   ]
  },
  {
   "cell_type": "code",
   "execution_count": 98,
   "id": "092a6dc1",
   "metadata": {},
   "outputs": [
    {
     "data": {
      "text/plain": [
       "91"
      ]
     },
     "execution_count": 98,
     "metadata": {},
     "output_type": "execute_result"
    }
   ],
   "source": [
    "num_docs_match"
   ]
  },
  {
   "cell_type": "code",
   "execution_count": 99,
   "id": "5f881a9d",
   "metadata": {},
   "outputs": [
    {
     "data": {
      "text/plain": [
       "90"
      ]
     },
     "execution_count": 99,
     "metadata": {},
     "output_type": "execute_result"
    }
   ],
   "source": [
    "num_of_comp"
   ]
  },
  {
   "cell_type": "code",
   "execution_count": 100,
   "id": "0e1146f9",
   "metadata": {},
   "outputs": [
    {
     "data": {
      "text/plain": [
       "1133"
      ]
     },
     "execution_count": 100,
     "metadata": {},
     "output_type": "execute_result"
    }
   ],
   "source": [
    "len(file_names)"
   ]
  },
  {
   "cell_type": "code",
   "execution_count": 101,
   "id": "4398ad1f",
   "metadata": {},
   "outputs": [
    {
     "data": {
      "text/plain": [
       "['barney.txt',\n",
       " 'bitnet.txt',\n",
       " 'bmdn01.txt',\n",
       " 'boneles2.txt',\n",
       " 'booze1.fun',\n",
       " 'cabbage.txt',\n",
       " 'calculus.txt',\n",
       " 'childhoo.jok',\n",
       " 'christop.int',\n",
       " 'cogdis.txt',\n",
       " 'collected_quotes.txt',\n",
       " 'computer.txt',\n",
       " 'conan.txt',\n",
       " 'cookie.1',\n",
       " 'cuchy.hum',\n",
       " 'cybrtrsh.txt',\n",
       " 'deep.txt',\n",
       " 'dromes.txt',\n",
       " 'dthought.txt',\n",
       " 'engineer.hum',\n",
       " 'epitaph',\n",
       " 'epi_.txt',\n",
       " 'epi_tton.txt',\n",
       " 'eskimo.nel',\n",
       " 'filmgoof.txt',\n",
       " 'flux_fix.txt',\n",
       " 'fuckyou2.txt',\n",
       " 'ghostfun.hum',\n",
       " 'golnar.txt',\n",
       " 'grail.txt',\n",
       " 'homebrew.txt',\n",
       " 'humor9.txt',\n",
       " 'indgrdn.txt',\n",
       " 'insult.lst',\n",
       " 'insults1.txt',\n",
       " 'iremember',\n",
       " 'ivan.hum',\n",
       " 'japantv.txt',\n",
       " 'jc-elvis.inf',\n",
       " 'kanalx.txt',\n",
       " 'lawyer.jok',\n",
       " 'lifeimag.hum',\n",
       " 'lifeonledge.txt',\n",
       " 'lion.jok',\n",
       " 'lion.txt',\n",
       " 'lions.cat',\n",
       " 'llong.hum',\n",
       " 'lozerzon.hum',\n",
       " 'luggage.hum',\n",
       " 'm0dzmen.hum',\n",
       " 'maecenas.hum',\n",
       " 'marriage.hum',\n",
       " 'mel.txt',\n",
       " 'minn.txt',\n",
       " 'misc.1',\n",
       " 'mlverb.hum',\n",
       " 'montpyth.hum',\n",
       " 'moose.txt',\n",
       " 'murphys.txt',\n",
       " 'murphy_l.txt',\n",
       " 'namaste.txt',\n",
       " 'nameisreo.txt',\n",
       " 'news.hum',\n",
       " 'nigel.5',\n",
       " 'nihgel_8.9',\n",
       " 'onetoone.hum',\n",
       " 'onetotwo.hum',\n",
       " 'passage.hum',\n",
       " 'peatchp.hum',\n",
       " 'pepsideg.txt',\n",
       " 'phorse.hum',\n",
       " 'pizzawho.hum',\n",
       " 'prac1.jok',\n",
       " 'prac3.jok',\n",
       " 'pracjoke.txt',\n",
       " 'practica.txt',\n",
       " 'puzzles.jok',\n",
       " 'quack26.txt',\n",
       " 'quest.hum',\n",
       " 'quux_p.oem',\n",
       " 'reasons.txt',\n",
       " 'scratchy.txt',\n",
       " 'smurfkil.hum',\n",
       " 'solders.hum',\n",
       " 'soleleer.hum',\n",
       " 'stone.hum',\n",
       " 'stuf10.txt',\n",
       " 'three.txt',\n",
       " 'throwawa.hum',\n",
       " 'tpquotes.txt',\n",
       " 'xibovac.txt']"
      ]
     },
     "execution_count": 101,
     "metadata": {},
     "output_type": "execute_result"
    }
   ],
   "source": [
    "doc_list"
   ]
  },
  {
   "cell_type": "code",
   "execution_count": null,
   "id": "24795521",
   "metadata": {},
   "outputs": [],
   "source": []
  }
 ],
 "metadata": {
  "kernelspec": {
   "display_name": "Python 3 (ipykernel)",
   "language": "python",
   "name": "python3"
  },
  "language_info": {
   "codemirror_mode": {
    "name": "ipython",
    "version": 3
   },
   "file_extension": ".py",
   "mimetype": "text/x-python",
   "name": "python",
   "nbconvert_exporter": "python",
   "pygments_lexer": "ipython3",
   "version": "3.9.5"
  }
 },
 "nbformat": 4,
 "nbformat_minor": 5
}
